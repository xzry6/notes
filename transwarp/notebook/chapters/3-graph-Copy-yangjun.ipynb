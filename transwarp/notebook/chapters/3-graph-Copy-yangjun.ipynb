{
 "cells": [
  {
   "cell_type": "markdown",
   "metadata": {},
   "source": [
    "[Previous Chapter: Tensorflow Basics](2-basics.ipynb)\n",
    "<br>\n",
    "[Next Chapter: Summary and Tensorboard](4-summary.ipynb)"
   ]
  },
  {
   "cell_type": "markdown",
   "metadata": {},
   "source": [
    "## Graph\n",
    "\n",
    "A *Graph* in Tensorflow represents complicated computation dataflow consisting of *Tensors*.<br>\n",
    "\n",
    "A *Tensor* is a basic data structure in *Tensorflow*. There are several features of a *Tensor*.\n",
    "- Represents one of outputs of an *Operation*;\n",
    "- As a symbolic handle to one of the outputs of an *Operation*, *Tensor* provides a mean of computing the outputs in *Tensor*flow session instead of hold the real value;\n",
    "- A *Tensor* could also be fed as an input to another *Operation*, that enables Tensorflow to build a multi-step, complicated computation which is called a *Graph*;\n",
    "- After the *Graph* has been launched to a *Session*, the value of the *Tensor* can be computed by passing it to `Session.run()`;\n",
    "\n"
   ]
  },
  {
   "cell_type": "markdown",
   "metadata": {},
   "source": [
    "### Exercise: Build a Softmax Regression in Tensorflow\n",
    "\n",
    "#### Logistic Regression\n",
    "\n",
    "*Logistic Regression* applies a sigmoid function on linear combination to break the constant gradient.\n",
    "As ranging between 0 and 1, sigmoid function is widely used in *Neural Network* for neural activation.\n",
    "\n",
    "A sigmoid function is defined as\n",
    "$\\large \\sigma(z) = {1 \\over 1 + e^{-z}}$,\n",
    "where\n",
    "$\\normalsize z = x^T * w + b$.\n",
    "\n",
    "\n",
    "<img src=\"https://upload.wikimedia.org/wikipedia/commons/thumb/8/88/Logistic-curve.svg/2000px-Logistic-curve.svg.png\" width=\"300\" align=\"left\"/>"
   ]
  },
  {
   "cell_type": "markdown",
   "metadata": {},
   "source": [
    "#### Softmax Regression\n",
    "\n",
    "*Logistic Regression* could properly deal with 2-class classification problem. While in machine-learned neural networks, *Softmax Regression* is more common used because of the capability of multiple-class classfiction. Generally, *Softmax Regression* is a special case of *Logistic Regression* and is designed for filling the vacancy on its disadvantages.\n",
    "\n",
    "A Softmax function is defined as:\n",
    "\n",
    "$\n",
    "\\sigma(z)_j = \\Large {{e^{z_j} \\over \\Sigma^k_{k=1} e^{z_k}}}\n",
    "$\n",
    "\n",
    "The largest $\\sigma(z)_j$ is then chosen as the predicted class."
   ]
  },
  {
   "cell_type": "markdown",
   "metadata": {},
   "source": [
    "#### Relationship between Logistic Regression and Softmax Regression\n",
    "\n",
    "Let's do some simple mathmatics.\n",
    "\n",
    "When k = 2,\n",
    "\n",
    "$\n",
    "\\begin{align*} \n",
    "\\sigma(z)\n",
    "&= \\normalsize{{1 \\over e^{z_1} + e^{z_2}} \\begin{bmatrix} e^{z_1} \\\\ e^{z_2} \\end{bmatrix}} \\\\\n",
    "&= \\large\\begin{bmatrix} {1 \\over 1 + e^{(z_2 - z_1)}} \\\\ {1 \\over 1 + e^{(z_1 - z_2)}}\\end{bmatrix} \\\\\n",
    "&= \\large\\begin{bmatrix} {1 \\over 1 + e^{(z_2 - z_1)}} \\\\ 1 - {1 \\over 1 + e^{(z_2 - z_1)}}\\end{bmatrix}\n",
    "\\end{align*}\n",
    "$\n",
    "\n",
    "\n",
    "Assume $Z = z_1 - z_2$, one of the $\\sigma(z_1) = \\large{1 \\over 1 + e^{-Z}}$ while the other one $\\sigma(z_1) = 1 - \\large{1 \\over 1 + e^{-Z}}$, which proves the function is consitent with *Logistic Regression*.\n",
    "\n",
    "##### Now try to build a Softmax Regression in Tensorflow yourself. See [*Linear Regression sample*](../TF-Learn.ipynb#samplecode) for reference."
   ]
  },
  {
   "cell_type": "markdown",
   "metadata": {},
   "source": [
    "#### Necessary Headers"
   ]
  },
  {
   "cell_type": "code",
   "execution_count": 2,
   "metadata": {
    "collapsed": true
   },
   "outputs": [],
   "source": [
    "from __future__ import absolute_import\n",
    "from __future__ import print_function\n",
    "from __future__ import division\n",
    "\n",
    "import tensorflow as tf"
   ]
  },
  {
   "cell_type": "markdown",
   "metadata": {},
   "source": [
    "#### MNIST data"
   ]
  },
  {
   "cell_type": "code",
   "execution_count": 3,
   "metadata": {
    "collapsed": false
   },
   "outputs": [
    {
     "name": "stdout",
     "output_type": "stream",
     "text": [
      "Extracting /root/tensorflow/MNIST_data/train-images-idx3-ubyte.gz\n",
      "Extracting /root/tensorflow/MNIST_data/train-labels-idx1-ubyte.gz\n",
      "Extracting /root/tensorflow/MNIST_data/t10k-images-idx3-ubyte.gz\n",
      "Extracting /root/tensorflow/MNIST_data/t10k-labels-idx1-ubyte.gz\n"
     ]
    }
   ],
   "source": [
    "## MNIST data\n",
    "from tensorflow.examples.tutorials.mnist import input_data\n",
    "mnist = input_data.read_data_sets(\"/root/tensorflow/MNIST_data\", one_hot=True)"
   ]
  },
  {
   "cell_type": "markdown",
   "metadata": {},
   "source": [
    "#### Training Parameters"
   ]
  },
  {
   "cell_type": "code",
   "execution_count": 25,
   "metadata": {
    "collapsed": true
   },
   "outputs": [],
   "source": [
    "## parameters\n",
    "learning_rate = 0.001\n",
    "training_epochs = 25\n",
    "batch_size = 100\n",
    "display_step = 1"
   ]
  },
  {
   "cell_type": "code",
   "execution_count": null,
   "metadata": {
    "collapsed": true
   },
   "outputs": [],
   "source": []
  },
  {
   "cell_type": "markdown",
   "metadata": {},
   "source": [
    "#### Inputs"
   ]
  },
  {
   "cell_type": "code",
   "execution_count": 5,
   "metadata": {
    "collapsed": true
   },
   "outputs": [],
   "source": [
    "## inputs\n",
    "x = tf.placeholder(tf.float32, [None, 784]) # MNIST data image are of shape 28*28\n",
    "y = tf.placeholder(tf.float32, [None, 10]) # MNIST data has 10 classes"
   ]
  },
  {
   "cell_type": "markdown",
   "metadata": {},
   "source": [
    "#### Variables"
   ]
  },
  {
   "cell_type": "code",
   "execution_count": 11,
   "metadata": {
    "collapsed": false
   },
   "outputs": [],
   "source": [
    "## variables\n",
    "\n",
    "# initialize random uniform distributed weights with size of [784, 10] ranging from -1 to 1\n",
    "W = tf.Variable(tf.random_uniform([784, 10], -1.0, 1.0)) ###### write your code here ######\n",
    "\n",
    "# initialize bias with size of [10] to zero\n",
    "b = tf.Variable(tf.zeros([10])) ###### write your code here ######"
   ]
  },
  {
   "cell_type": "markdown",
   "metadata": {},
   "source": [
    "#### Graph"
   ]
  },
  {
   "cell_type": "code",
   "execution_count": 21,
   "metadata": {
    "collapsed": false
   },
   "outputs": [],
   "source": [
    "## graph\n",
    "\n",
    "# comb = W * x + b (using a similar tensorflow function)\n",
    "comb = tf.add(tf.matmul(x, W), b) ###### write your code here ######\n",
    "\n",
    "# predicted value\n",
    "pred = tf.nn.softmax(comb)\n",
    "\n",
    "# entr equals to **negative** `tf.reduce_sum()` of y * log(pred), with reduction_indices = 1\n",
    "entr = - tf.reduce_sum(y * tf.log(pred), reduction_indices = 1) ###### write your code here ######\n",
    "\n",
    "# cross entropy cost\n",
    "cost = tf.reduce_mean(entr)\n",
    "\n",
    "# optimizer\n",
    "opti = tf.train.GradientDescentOptimizer(learning_rate)\n",
    "\n",
    "# training_steps use optimizer to minimize the cost\n",
    "trainTarget = opti.minimize(cost) ###### write your code here ######\n",
    "\n",
    "# initialization\n",
    "init = tf.initialize_all_variables()"
   ]
  },
  {
   "cell_type": "code",
   "execution_count": null,
   "metadata": {
    "collapsed": true
   },
   "outputs": [],
   "source": []
  },
  {
   "cell_type": "code",
   "execution_count": null,
   "metadata": {
    "collapsed": true
   },
   "outputs": [],
   "source": []
  },
  {
   "cell_type": "markdown",
   "metadata": {},
   "source": [
    "#### Run a Session"
   ]
  },
  {
   "cell_type": "code",
   "execution_count": 27,
   "metadata": {
    "collapsed": false
   },
   "outputs": [
    {
     "name": "stdout",
     "output_type": "stream",
     "text": [
      "Epoch: 0001 cost= 4.194031827\n",
      "Epoch: 0002 cost= 1.902875528\n",
      "Epoch: 0003 cost= 1.341078213\n",
      "Epoch: 0004 cost= 1.101014815\n",
      "Epoch: 0005 cost= 0.964865621\n",
      "Epoch: 0006 cost= 0.875169085\n",
      "Epoch: 0007 cost= 0.810112728\n",
      "Epoch: 0008 cost= 0.762451124\n",
      "Epoch: 0009 cost= 0.723872088\n",
      "Epoch: 0010 cost= 0.691759848\n",
      "Epoch: 0011 cost= 0.666910385\n",
      "Epoch: 0012 cost= 0.643966755\n",
      "Epoch: 0013 cost= 0.624451743\n",
      "Epoch: 0014 cost= 0.608552509\n",
      "Epoch: 0015 cost= 0.593256631\n",
      "Epoch: 0016 cost= 0.579833239\n",
      "Epoch: 0017 cost= 0.568099731\n",
      "Epoch: 0018 cost= 0.558195243\n",
      "Epoch: 0019 cost= 0.547177573\n",
      "Epoch: 0020 cost= 0.539000144\n",
      "Epoch: 0021 cost= 0.529176352\n",
      "Epoch: 0022 cost= 0.523381835\n",
      "Epoch: 0023 cost= 0.516127037\n",
      "Epoch: 0024 cost= 0.508407805\n",
      "Epoch: 0025 cost= 0.502847969\n",
      "Optimization Finished!\n",
      "Accuracy: 0.8633\n"
     ]
    }
   ],
   "source": [
    "## training\n",
    "with tf.Session() as sess:\n",
    "    sess.run(init)\n",
    "\n",
    "    # training epochs\n",
    "    for epoch in range(training_epochs):\n",
    "\n",
    "        avg_cost = 0\n",
    "        total_batch = int(mnist.train.num_examples / batch_size)\n",
    "\n",
    "        # split the data into different batches and run\n",
    "        for i in range(total_batch):\n",
    "            batch_xs, batch_ys = mnist.train.next_batch(batch_size)\n",
    "            # run training steps and cost both in session, which should be fed `x = batch_xs` and `y = batch_ys`\n",
    "            _, cur_cost = sess.run([trainTarget, cost], feed_dict={x:batch_xs, y:batch_ys}) ###### write your code here ######\n",
    "\n",
    "            avg_cost += cur_cost / total_batch\n",
    "\n",
    "        # show the average cost\n",
    "        if (epoch+1) % display_step == 0:\n",
    "            print(\"Epoch:\", '%04d' % (epoch+1), \"cost=\", \"{:.9f}\".format(avg_cost))\n",
    "\n",
    "    print(\"Optimization Finished!\")\n",
    "\n",
    "    # accuracy\n",
    "    correct_prediction = tf.equal(tf.argmax(pred, 1), tf.argmax(y, 1))\n",
    "    accuracy = tf.reduce_mean(tf.cast(correct_prediction, 'float'))\n",
    "    print(\"Accuracy:\", accuracy.eval({x: mnist.test.images, y: mnist.test.labels}))"
   ]
  },
  {
   "cell_type": "code",
   "execution_count": null,
   "metadata": {
    "collapsed": true
   },
   "outputs": [],
   "source": []
  },
  {
   "cell_type": "code",
   "execution_count": null,
   "metadata": {
    "collapsed": true
   },
   "outputs": [],
   "source": []
  },
  {
   "cell_type": "code",
   "execution_count": null,
   "metadata": {
    "collapsed": true
   },
   "outputs": [],
   "source": []
  },
  {
   "cell_type": "code",
   "execution_count": null,
   "metadata": {
    "collapsed": true
   },
   "outputs": [],
   "source": []
  },
  {
   "cell_type": "code",
   "execution_count": null,
   "metadata": {
    "collapsed": true
   },
   "outputs": [],
   "source": []
  },
  {
   "cell_type": "code",
   "execution_count": null,
   "metadata": {
    "collapsed": true
   },
   "outputs": [],
   "source": []
  },
  {
   "cell_type": "code",
   "execution_count": null,
   "metadata": {
    "collapsed": true
   },
   "outputs": [],
   "source": []
  },
  {
   "cell_type": "markdown",
   "metadata": {},
   "source": [
    "[Previous Chapter: Tensorflow Basics](2-basics.ipynb)\n",
    "<br>\n",
    "[Next Chapter: Summary and Tensorboard](4-summary.ipynb)"
   ]
  },
  {
   "cell_type": "code",
   "execution_count": null,
   "metadata": {
    "collapsed": true
   },
   "outputs": [],
   "source": []
  }
 ],
 "metadata": {
  "kernelspec": {
   "display_name": "Python 2",
   "language": "python",
   "name": "python2"
  },
  "language_info": {
   "codemirror_mode": {
    "name": "ipython",
    "version": 2
   },
   "file_extension": ".py",
   "mimetype": "text/x-python",
   "name": "python",
   "nbconvert_exporter": "python",
   "pygments_lexer": "ipython2",
   "version": "2.7.5"
  }
 },
 "nbformat": 4,
 "nbformat_minor": 1
}
