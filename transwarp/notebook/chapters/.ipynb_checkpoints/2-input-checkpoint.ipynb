{
 "cells": [
  {
   "cell_type": "markdown",
   "metadata": {},
   "source": [
    "[Previous Chapter: Style Guide](1-style.ipynb)\n",
    "<br>\n",
    "[Next Chapter: Graph and Tensor](3-graph.ipynb)"
   ]
  },
  {
   "cell_type": "markdown",
   "metadata": {},
   "source": [
    "## Input and Variable\n",
    "In this chapter, we have some exercises of variable definition and input operation.\n",
    "When the code is ready, toggle the `\"run cell\"` button on menu bar to run the code.\n",
    "\n",
    "#### Prepare for coding\n",
    "At first, let's follow the [style guide](1-style.ipynb) and put the necessary headers."
   ]
  },
  {
   "cell_type": "code",
   "execution_count": null,
   "metadata": {
    "collapsed": true
   },
   "outputs": [],
   "source": [
    "from __future__ import absolute_import\n",
    "from __future__ import print_function\n",
    "from __future__ import division\n",
    "\n",
    "import tensorflow as tf\n",
    "import numpy as np"
   ]
  },
  {
   "cell_type": "markdown",
   "metadata": {},
   "source": [
    "Get a `session` to run the code."
   ]
  },
  {
   "cell_type": "code",
   "execution_count": null,
   "metadata": {
    "collapsed": true
   },
   "outputs": [],
   "source": [
    "sess = tf.Session()"
   ]
  },
  {
   "cell_type": "markdown",
   "metadata": {},
   "source": [
    "### Exercise: Constants\n",
    "Tensorflow provides `tf.constant()` to create constants."
   ]
  },
  {
   "cell_type": "markdown",
   "metadata": {},
   "source": [
    "#### Numeric"
   ]
  },
  {
   "cell_type": "code",
   "execution_count": null,
   "metadata": {
    "collapsed": true
   },
   "outputs": [],
   "source": [
    "## create two variables `a = 2` and `b = 3`\n",
    "a = ... ###### write your code here ######\n",
    "b = ... ###### write your code here ######\n",
    "print(\"a = %i\" % sess.run(a))\n",
    "print(\"b = %i\" % sess.run(b))"
   ]
  },
  {
   "cell_type": "markdown",
   "metadata": {},
   "source": [
    "#### Arrays and Matrixes"
   ]
  },
  {
   "cell_type": "code",
   "execution_count": null,
   "metadata": {
    "collapsed": true
   },
   "outputs": [],
   "source": [
    "## create two matrixes `c = {{1, 2}, {3, 4}}` and `d = {{1, 1}, {0, 1}}`\n",
    "c = ... ###### write your code here ######\n",
    "d = ... ###### write your code here ######\n",
    "print(sess.run(c))\n",
    "print(sess.run(d))"
   ]
  },
  {
   "cell_type": "markdown",
   "metadata": {},
   "source": [
    "#### String"
   ]
  },
  {
   "cell_type": "code",
   "execution_count": null,
   "metadata": {
    "collapsed": true
   },
   "outputs": [],
   "source": [
    "## create a string `e = 'Hello, Tensorflow'`\n",
    "e = ... ###### write your code here ######\n",
    "print(sess.run(e))"
   ]
  },
  {
   "cell_type": "markdown",
   "metadata": {},
   "source": [
    "### Exercise: Placeholders\n",
    "\n",
    "Tensorflow also provide a `tf.placeholder()` operation which must be fed with data on execution."
   ]
  },
  {
   "cell_type": "code",
   "execution_count": null,
   "metadata": {
    "collapsed": true
   },
   "outputs": [],
   "source": [
    "## create two placeholder `a` and `b` holds `tf.int16`\n",
    "########### write your code here ###########\n",
    "\n",
    "## some operations\n",
    "add = tf.add(a, b)\n",
    "mul = tf.mul(a, b)\n",
    "\n",
    "with tf.Session() as sess:\n",
    "  # get the result of add by feeding `{a: 2, b: 3}` to `sess.run()` using feed_dict\n",
    "  resultAdd, resultMul = ... ###### write your code here ######\n",
    "  print(\"adding result is: %i\" % resultAdd)\n",
    "  print(\"multiplying result is: %i\" % resultMul)"
   ]
  },
  {
   "cell_type": "markdown",
   "metadata": {},
   "source": [
    "[Previous Chapter: Style Guide](1-style.ipynb)\n",
    "<br>\n",
    "[Next Chapter: Graph and Tensor](3-graph.ipynb)"
   ]
  },
  {
   "cell_type": "code",
   "execution_count": null,
   "metadata": {
    "collapsed": true
   },
   "outputs": [],
   "source": []
  }
 ],
 "metadata": {
  "kernelspec": {
   "display_name": "Python 2",
   "language": "python",
   "name": "python2"
  },
  "language_info": {
   "codemirror_mode": {
    "name": "ipython",
    "version": 2
   },
   "file_extension": ".py",
   "mimetype": "text/x-python",
   "name": "python",
   "nbconvert_exporter": "python",
   "pygments_lexer": "ipython2",
   "version": "2.7.5"
  }
 },
 "nbformat": 4,
 "nbformat_minor": 1
}
