{
 "cells": [
  {
   "cell_type": "markdown",
   "metadata": {},
   "source": [
    "[Previous Chapter: Graph](3-graph.ipynb)\n",
    "<br>\n",
    "[Next Chapter: Neural Network](5-ann.ipynb)"
   ]
  },
  {
   "cell_type": "markdown",
   "metadata": {
    "collapsed": true
   },
   "source": [
    "## Summary\n",
    "\n",
    "To visualize the result of a graph, *Tensorflow* introduces *summary*, which could be collected and viewed in *Tensorboard*.\n",
    "\n",
    "#### Import the previous softmax model"
   ]
  },
  {
   "cell_type": "code",
   "execution_count": 1,
   "metadata": {
    "collapsed": false
   },
   "outputs": [
    {
     "name": "stdout",
     "output_type": "stream",
     "text": [
      "Extracting /root/tensorflow/MNIST_data/train-images-idx3-ubyte.gz\n",
      "Extracting /root/tensorflow/MNIST_data/train-labels-idx1-ubyte.gz\n",
      "Extracting /root/tensorflow/MNIST_data/t10k-images-idx3-ubyte.gz\n",
      "Extracting /root/tensorflow/MNIST_data/t10k-labels-idx1-ubyte.gz\n"
     ]
    }
   ],
   "source": [
    "from __future__ import absolute_import\n",
    "from __future__ import division\n",
    "from __future__ import print_function\n",
    "\n",
    "import tensorflow as tf\n",
    "\n",
    "## MNIST data\n",
    "from tensorflow.examples.tutorials.mnist import input_data\n",
    "mnist = input_data.read_data_sets(\"/root/tensorflow/MNIST_data\", one_hot=True)\n",
    "\n",
    "## parameters\n",
    "learning_rate = 0.01\n",
    "training_epochs = 25\n",
    "batch_size = 100\n",
    "display_step = 5"
   ]
  },
  {
   "cell_type": "markdown",
   "metadata": {},
   "source": [
    "#### Graph"
   ]
  },
  {
   "cell_type": "code",
   "execution_count": 2,
   "metadata": {
    "collapsed": true
   },
   "outputs": [],
   "source": [
    "## inputs\n",
    "x = tf.placeholder(tf.float32, shape=[None, 784], name=\"x\")\n",
    "y = tf.placeholder(tf.float32, shape=[None, 10], name=\"y\")\n",
    "# reshaped input image\n",
    "x_reshaped = tf.reshape(x, [-1, 28, 28, 1])\n",
    "\n",
    "## variables\n",
    "W = tf.Variable(tf.zeros([784, 10]))\n",
    "b = tf.Variable(tf.zeros([10]))\n",
    "\n",
    "## graph\n",
    "pred = tf.nn.softmax(tf.matmul(x,W) + b)\n",
    "cost = tf.reduce_mean(-tf.reduce_sum(y * tf.log(pred), reduction_indices=[1]))\n",
    "training_steps = tf.train.GradientDescentOptimizer(learning_rate).minimize(cost)\n",
    "\n",
    "## accuracy\n",
    "tp = tf.equal(tf.argmax(y,1), tf.argmax(pred,1))\n",
    "accuracy = tf.reduce_mean(tf.cast(tp, tf.float32))"
   ]
  },
  {
   "cell_type": "markdown",
   "metadata": {},
   "source": [
    "#### Summary Operations\n",
    "- tf.scalar_summary()\n",
    "- tf.histogram_summary()\n",
    "- tf.image_summary()\n",
    "- tf.audio_summary()"
   ]
  },
  {
   "cell_type": "markdown",
   "metadata": {},
   "source": [
    "### Exercise: Life Cycle of Summay\n",
    "- Create the TensorFlow graph that you'd like to collect summary data from, and decide which nodes you would like to annotate with summary operations;"
   ]
  },
  {
   "cell_type": "code",
   "execution_count": 3,
   "metadata": {
    "collapsed": false
   },
   "outputs": [
    {
     "data": {
      "text/plain": [
       "<tf.Tensor 'ImageSummary:0' shape=() dtype=string>"
      ]
     },
     "execution_count": 3,
     "metadata": {},
     "output_type": "execute_result"
    }
   ],
   "source": [
    "## summaries\n",
    "\n",
    "# image summary\n",
    "tf.image_summary('input', x_reshaped, 10)\n",
    "\n",
    "# histogram summary\n",
    "# create two histogram summaries here, summarizing `W` and `b`\n",
    "###### write your code here ######\n",
    "###### write your code here ######\n",
    "\n",
    "# scalar summary\n",
    "# create two scalar summaries here, summarizing `cost` and `accuracy`\n",
    "###### write your code here ######\n",
    "###### write your code here ######"
   ]
  },
  {
   "cell_type": "markdown",
   "metadata": {},
   "source": [
    "- Operations in TensorFlow don't do anything until you run them, neither do summaries. So use `tf.merge_summary` or `tf.merge_all_summaries` to combine them into a single op that generates all the summary data;"
   ]
  },
  {
   "cell_type": "code",
   "execution_count": null,
   "metadata": {
    "collapsed": false
   },
   "outputs": [],
   "source": [
    "# use `tf.merge_all_summaries()` to register the summaries\n",
    "merged = ... ###### write your code here ######"
   ]
  },
  {
   "cell_type": "markdown",
   "metadata": {},
   "source": [
    "- Create a `tf.train.SummaryWriter`;"
   ]
  },
  {
   "cell_type": "code",
   "execution_count": null,
   "metadata": {
    "collapsed": false
   },
   "outputs": [],
   "source": [
    "# summary writer\n",
    "writer = tf.train.SummaryWriter('/root/tensorflow/summaries/softmax', graph = tf.get_default_graph())"
   ]
  },
  {
   "cell_type": "markdown",
   "metadata": {},
   "source": [
    "- Run the merged summary op in your Session, then pass the summary protobuf to your `tf.train.SummaryWriter`;"
   ]
  },
  {
   "cell_type": "code",
   "execution_count": null,
   "metadata": {
    "collapsed": false
   },
   "outputs": [],
   "source": [
    "## training\n",
    "with tf.Session() as sess:\n",
    "    sess.run(tf.initialize_all_variables())\n",
    "\n",
    "    # training epochs\n",
    "    for epoch in range(training_epochs):\n",
    "        avg_cost = 0\n",
    "        total_batch = int(mnist.train.num_examples / batch_size)\n",
    "\n",
    "        for i in range(total_batch):\n",
    "            batch_xs, batch_ys = mnist.train.next_batch(batch_size)\n",
    "            _, cur_cost, summary = sess.run([training_steps, cost, merged], feed_dict={x: batch_xs, y: batch_ys})\n",
    "            avg_cost += cur_cost / total_batch\n",
    "\n",
    "            # write your summaries\n",
    "            writer.add_summary(summary, epoch * total_batch + i)\n",
    "\n",
    "        # show the average cost and add summary\n",
    "        if (epoch+1) % display_step == 0:\n",
    "            print(\"Epoch:\", '%04d' % (epoch+1), \"cost=\", \"{:.9f}\".format(avg_cost))\n",
    "\n",
    "    print(\"Optimization Finished!\")\n",
    "    print(\"Accuracy:\", sess.run(accuracy, {x: mnist.test.images, y: mnist.test.labels}))"
   ]
  },
  {
   "cell_type": "markdown",
   "metadata": {},
   "source": [
    "- Close your writer;"
   ]
  },
  {
   "cell_type": "code",
   "execution_count": null,
   "metadata": {
    "collapsed": true
   },
   "outputs": [],
   "source": [
    "writer.close()"
   ]
  },
  {
   "cell_type": "markdown",
   "metadata": {},
   "source": [
    "#### Visualization\n",
    "Now head to http://172.16.3.227:6006 !"
   ]
  },
  {
   "cell_type": "markdown",
   "metadata": {},
   "source": [
    "#### Why my graph looks so messy?\n",
    "Try to use `tf.name_scope()` wrapping your graph and re-run the **Life Cycle**."
   ]
  },
  {
   "cell_type": "code",
   "execution_count": null,
   "metadata": {
    "collapsed": true
   },
   "outputs": [],
   "source": [
    "## reset the graph\n",
    "tf.reset_default_graph()\n",
    "\n",
    "## inputs\n",
    "with tf.name_scope('inputs'):\n",
    "    ###### write your code here ######\n",
    "    ###### write your code here ######\n",
    "    ###### write your code here ######\n",
    "\n",
    "## weights\n",
    "with tf.name_scope('weights'):\n",
    "    ###### write your code here ######\n",
    "\n",
    "## biases\n",
    "with tf.name_scope('biases'):\n",
    "    ###### write your code here ######\n",
    "\n",
    "## softmax\n",
    "with tf.name_scope('softmax'):\n",
    "    ###### write your code here ######\n",
    "\n",
    "## graph\n",
    "with tf.name_scope('cost'):\n",
    "    ###### write your code here ######\n",
    "\n",
    "# specify optimizer\n",
    "with tf.name_scope('train'):\n",
    "    ###### write your code here ######\n",
    "\n",
    "## accuracy\n",
    "with tf.name_scope('Accuracy'):\n",
    "    ###### write your code here ######\n",
    "    ###### write your code here ######"
   ]
  },
  {
   "cell_type": "markdown",
   "metadata": {},
   "source": [
    "[Previous Chapter: Graph](3-graph.ipynb)\n",
    "<br>\n",
    "[Next Chapter: Neural Network](5-ann.ipynb)"
   ]
  },
  {
   "cell_type": "code",
   "execution_count": null,
   "metadata": {
    "collapsed": true
   },
   "outputs": [],
   "source": []
  }
 ],
 "metadata": {
  "kernelspec": {
   "display_name": "Python 2",
   "language": "python",
   "name": "python2"
  },
  "language_info": {
   "codemirror_mode": {
    "name": "ipython",
    "version": 2
   },
   "file_extension": ".py",
   "mimetype": "text/x-python",
   "name": "python",
   "nbconvert_exporter": "python",
   "pygments_lexer": "ipython2",
   "version": "2.7.5"
  }
 },
 "nbformat": 4,
 "nbformat_minor": 1
}
