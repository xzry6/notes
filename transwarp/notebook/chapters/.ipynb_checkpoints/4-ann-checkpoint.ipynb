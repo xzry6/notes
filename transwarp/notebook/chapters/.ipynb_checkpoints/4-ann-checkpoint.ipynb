{
 "cells": [
  {
   "cell_type": "markdown",
   "metadata": {},
   "source": [
    "[Previous Chapter: Graph and Tensor](3-graph.ipynb)\n",
    "<br>\n",
    "[Next Chapter: Convolutional Neural Network](5-cnn.ipynb)"
   ]
  },
  {
   "cell_type": "markdown",
   "metadata": {},
   "source": [
    "## Neural Network\n",
    "\n",
    "Here is an exercise of building a *Neural Network* using *Tensorflow*.\n",
    "\n",
    "See [here](https://github.com/xzry6/notes/blob/master/transwarp/ann.md) if you are not familiar with *Neural Network*.\n",
    "\n",
    "In this exercise, our neural network will have 2 hidden layer with user defined units and one linear regression output layer."
   ]
  },
  {
   "cell_type": "markdown",
   "metadata": {},
   "source": [
    "#### Same as previous chapter"
   ]
  },
  {
   "cell_type": "code",
   "execution_count": null,
   "metadata": {
    "collapsed": true
   },
   "outputs": [],
   "source": [
    "from __future__ import absolute_import\n",
    "from __future__ import print_function\n",
    "from __future__ import division\n",
    "\n",
    "import tensorflow as tf\n",
    "\n",
    "## MNIST data\n",
    "from tensorflow.examples.tutorials.mnist import input_data\n",
    "mnist = input_data.read_data_sets(\"/root/tensorflow/MNIST_data\", one_hot=True)\n",
    "\n",
    "## parameters\n",
    "learning_rate = 0.001\n",
    "training_epochs = 15\n",
    "batch_size = 100\n",
    "display_step = 1\n",
    "\n",
    "## inputs\n",
    "x = tf.placeholder(tf.float32, [None, 784])\n",
    "y = tf.placeholder(tf.float32, [None, 10])"
   ]
  },
  {
   "cell_type": "markdown",
   "metadata": {},
   "source": [
    "#### Hidden Layers"
   ]
  },
  {
   "cell_type": "code",
   "execution_count": null,
   "metadata": {
    "collapsed": true
   },
   "outputs": [],
   "source": [
    "## hidden layer number of features\n",
    "# define any number of features to this two hidden layers\n",
    "n_hidden_1 = ... ###### write your code here ######\n",
    "n_hidden_2 = ... ###### write your code here ######"
   ]
  },
  {
   "cell_type": "markdown",
   "metadata": {},
   "source": [
    "#### Weights and Biases"
   ]
  },
  {
   "cell_type": "code",
   "execution_count": null,
   "metadata": {
    "collapsed": true
   },
   "outputs": [],
   "source": [
    "## weights and biases\n",
    "weights = {\n",
    "    'w1': tf.Variable(tf.random_normal([784, n_hidden_1])),\n",
    "    'w2': tf.Variable(tf.random_normal([n_hidden_1, n_hidden_2])),\n",
    "    'output': tf.Variable(tf.random_normal([n_hidden_2, 10]))\n",
    "}\n",
    "biases = {\n",
    "    'b1': tf.Variable(tf.random_normal([n_hidden_1])),\n",
    "    'b2': tf.Variable(tf.random_normal([n_hidden_2])),\n",
    "    'output': tf.Variable(tf.random_normal([10]))\n",
    "}"
   ]
  },
  {
   "cell_type": "markdown",
   "metadata": {},
   "source": [
    "#### Define a deep graph function"
   ]
  },
  {
   "cell_type": "code",
   "execution_count": null,
   "metadata": {
    "collapsed": true
   },
   "outputs": [],
   "source": [
    "## graph\n",
    "def multilayer_perceptron(x, weights, biases):\n",
    "    # hidden layer 1\n",
    "    comb_1 = tf.add(tf.matmul(x, weights['w1']), biases['b1'])\n",
    "    # layer_1 is activated using `tf.nn.relu()`\n",
    "    h_1 = ... ###### write your code here ######\n",
    "    \n",
    "    # hidden layer 2\n",
    "    comb_2 = tf.add(tf.matmul(h_1, weights['w2']), biases['b2'])\n",
    "    # layer_2 is activated using `tf.nn.relu()`\n",
    "    h_2 = ... ###### write your code here ######\n",
    "    \n",
    "    # output is just a linear combination function with `h_2 * w[output] + b[output]`\n",
    "    output = ... ###### write your code here ######\n",
    "\n",
    "    return output"
   ]
  },
  {
   "cell_type": "markdown",
   "metadata": {},
   "source": [
    "#### Training Steps"
   ]
  },
  {
   "cell_type": "code",
   "execution_count": null,
   "metadata": {
    "collapsed": true
   },
   "outputs": [],
   "source": [
    "# predicted value\n",
    "pred = multilayer_perceptron(x, weights, biases)\n",
    "\n",
    "# define your cost here, use `tf.nn.softmax_cross_entropy_with_logits(pred, y)` to calculate entropy here\n",
    "cost = ... ###### write your code here ######\n",
    "\n",
    "# define your optimizer here, we use a `tf.train.AdamOptimizer()` here\n",
    "optimizer = ... ###### write your code here ######\n",
    "\n",
    "# training steps\n",
    "training_steps = optimizer.minimize(cost)\n",
    "\n",
    "# initialization\n",
    "init = tf.initialize_all_variables()"
   ]
  },
  {
   "cell_type": "markdown",
   "metadata": {},
   "source": [
    "#### Run a Session"
   ]
  },
  {
   "cell_type": "code",
   "execution_count": null,
   "metadata": {
    "collapsed": true
   },
   "outputs": [],
   "source": [
    "## training\n",
    "with tf.Session() as sess:\n",
    "    sess.run(init)\n",
    "\n",
    "    # training epochs\n",
    "    for epoch in range(training_epochs):\n",
    "\n",
    "        avg_cost = 0\n",
    "        total_batch = int(mnist.train.num_examples / batch_size)\n",
    "\n",
    "        # split the data into different batches and run\n",
    "        for i in range(total_batch):\n",
    "            batch_xs, batch_ys = mnist.train.next_batch(batch_size)\n",
    "            _, cur_cost = sess.run([training_steps, cost],\n",
    "                            feed_dict={x: batch_xs, y: batch_ys})\n",
    "\n",
    "            avg_cost += cur_cost / total_batch\n",
    "\n",
    "        # show the average cost\n",
    "        if (epoch+1) % display_step == 0:\n",
    "            print(\"Epoch:\", '%04d' % (epoch+1), \"cost=\", \"{:.9f}\".format(avg_cost))\n",
    "\n",
    "    print(\"Optimization Finished!\")\n",
    "\n",
    "    # calculate accuracy\n",
    "    # use `tf.equal()` and `tf.argmax()` to get correction prediction\n",
    "    correct_prediction = ... ###### write your code here ######\n",
    "    # use `tf.reduce_mean` to get accuracy here\n",
    "    accuracy = ... ###### write your code here\n",
    "    print(\"Accuracy:\", accuracy.eval({x: mnist.test.images, y: mnist.test.labels}))"
   ]
  },
  {
   "cell_type": "markdown",
   "metadata": {},
   "source": [
    "[Previous Chapter: Graph and Tensor](3-graph.ipynb)\n",
    "<br>\n",
    "[Next Chapter: Convolutional Neural Network](5-cnn.ipynb)"
   ]
  },
  {
   "cell_type": "code",
   "execution_count": null,
   "metadata": {
    "collapsed": true
   },
   "outputs": [],
   "source": []
  }
 ],
 "metadata": {
  "kernelspec": {
   "display_name": "Python 2",
   "language": "python",
   "name": "python2"
  },
  "language_info": {
   "codemirror_mode": {
    "name": "ipython",
    "version": 2
   },
   "file_extension": ".py",
   "mimetype": "text/x-python",
   "name": "python",
   "nbconvert_exporter": "python",
   "pygments_lexer": "ipython2",
   "version": "2.7.5"
  }
 },
 "nbformat": 4,
 "nbformat_minor": 1
}
