{
 "cells": [
  {
   "cell_type": "markdown",
   "metadata": {},
   "source": [
    "[Previous Chapter: Style Guide](1-style.ipynb)\n",
    "<br>\n",
    "[Next Chapter: Graph](3-graph.ipynb)"
   ]
  },
  {
   "cell_type": "markdown",
   "metadata": {},
   "source": [
    "## Basic Concpts\n",
    "\n",
    "Following part is quoted from [Tensorflow 2015 White Paper](http://download.tensorflow.org/paper/whitepaper2015.pdf).\n",
    "\n",
    "<span style=\"color: #F08080\">A **TensorFlow computation** is described by a **directed graph**, which is composed of a set of nodes</span>. The *graph* represents a dataflow computation, with extensions for allowing some kinds of nodes to maintain and update persistent state and for branching and looping control structures within the graph. Clients typically construct a computational graph using one of the supported frontend languages (C++ or\n",
    "Python).\n",
    "\n",
    "<img src=\"https://raw.githubusercontent.com/stdcoutzyx/Blogs/master/blogs2016/imgs_tensorflow/3.png\" width=\"200\" />\n",
    "<img src=\"https://raw.githubusercontent.com/stdcoutzyx/Blogs/master/blogs2016/imgs_tensorflow/2.png\" width=\"800\" />\n",
    "\n",
    "In a *TensorFlow graph*, <span style=\"color: #F08080\">each **node** represents the instantiation of an **operation**, and has zero or more inputs and zero or more outputs</span>. <span style=\"color: #F08080\">Values that flow along normal edges in the graph (from outputs to inputs) are **tensors**</span>, arbitrary dimensionality arrays where the underlying element type is specified or inferred at graph-construction time.\n",
    "\n",
    "### Tensors\n",
    "<span style=\"color: #F08080\">A tensor is a typed, multidimensional array</span>. Tensorflow support a variety of tensor element types, including signed and unsigned integers ranging in size from 8 bits to 64 bits, IEEE float and double types, a complex number type, and a string type (an arbitrary byte array). Backing store of the appropriate size is managed by an allocator that is specific to the device on which the tensor resides. Tensor backing store buffers are reference counted and are deallocated when no references remain.\n",
    "\n",
    "\n",
    "### Variables\n",
    "In most computations a graph is executed multiple times. Most **tensors** do not survive past a single execution of the graph. However, <span style=\"color: #F08080\">a **Variable** is a special kind of operation that returns a handle to a persistent mutable tensor that survives across executions of a graph</span>. Handles to these persistent mutable tensors can be passed to a handful of special operations, such as Assign and AssignAdd (equivalent to +=) that mutate the referenced tensor.\n",
    "\n",
    "### Operations(Ops)\n",
    "<span style=\"color: #F08080\">An **operation** has a name and represents an abstract computation (see the following table)</span>. An operation can have attributes, and all attributes must be provided or inferred at graph-construction time in order to instantiate a node to perform the operation.\n",
    "<span style=\"color: #F08080\">A **kernel** is a particular implementation of an operation that can be run on a particular type of device (e.g., CPU or GPU)</span>.\n",
    "\n",
    "<img src=\"https://raw.githubusercontent.com/stdcoutzyx/Blogs/master/blogs2016/imgs_tensorflow/1.png\" width=\"800\" />\n",
    "\n",
    "### Sessions\n",
    "\n",
    "<span style=\"color: #F08080\">Clients programs interact with the TensorFlow system by creating a **Session**</span>.\n",
    "\n",
    "**Session Run**, which takes a set of output names that need to be computed, as well as an optional set of tensors to be fed into the graph in place of certain outputs of nodes. Using the arguments to Run, the TensorFlow implementation can compute the transitive closure of all nodes that must be executed in order to compute the outputs that were requested, and can then arrange to execute the appropriate nodes in an order that respects their dependencies. <span style=\"color: #F08080\">Most of our uses of TensorFlow set up a Session with a graph once, and then execute the full graph or a few distinct subgraphs thousands or millions of times via **Run** calls.</span>\n",
    "\n",
    "### Single Device Execution\n",
    "Let’s first consider the simplest execution scenario: a single worker process with a single device. The nodes of the graph are executed in an order that respects the dependencies between nodes. In particular, <span style=\"color: #F08080\">Tensorflow keeps track of a count per node of the number of dependencies of that node that have not yet been executed. Once this count drops to zero, the node is eligible for execution and is added to a ready queue</span>. The ready queue is processed in some unspecified order, delegating execution of the kernel for a node to the device object. When a node has finished executing, the counts of all nodes that depend on the completed node are decremented.\n",
    "\n",
    "\n",
    "### Exercise: Basic Concepts\n",
    "\n",
    "Read the below **Tensorflow API** carefully and finish the exerceses.\n",
    "\n",
    "##### tf.Session.run(fetches, feed_dict=None, options=None, run_metadata=None)\n",
    "```\n",
    "Runs operations and evaluates tensors in fetches.\n",
    "\n",
    "The fetches argument can be one of the following types:\n",
    "- An Operation;\n",
    "- A Tensor;\n",
    "- A SparseTensor;\n",
    "- A get_tensor_handle op;\n",
    "- A string which is the name of a tensor or operation in graph;\n",
    "\n",
    "Returns\n",
    "- A single value if fetches is a single graph element;\n",
    "- A list of values if fetches is a list;\n",
    "- A dictionary with the same keys;\n",
    "```\n",
    "\n",
    "##### tf.constant(value, dtype=None, shape=None, name='Const')\n",
    "```\n",
    "Creates a constant tensor.\n",
    "\n",
    "The argument value can be\n",
    "- A constant value;\n",
    "- A list of values of type dtype; \n",
    "\n",
    "The resulting tensor is populated with values of type dtype.\n",
    "```\n",
    "\n",
    "##### tf.placeholder(dtype, shape=None, name=None)\n",
    "```\n",
    "Inserts a placeholder for a tensor that will be always fed.\n",
    "\n",
    "Important: This tensor will produce an error if evaluated.\n",
    "Its value must be fed using the feed_dict optional argument\n",
    "to Session.run(), Tensor.eval(), or Operation.run().\n",
    "```\n",
    "\n",
    "##### tf.matmul(a, b, transpose_a=False, transpose_b=False, a_is_sparse=False, b_is_sparse=False, name=None)\n",
    "```\n",
    "Multiplies matrix a by matrix b, producing a * b.\n",
    "\n",
    "The inputs must be\n",
    "- Two-dimensional matching matrices;\n",
    "- Both matrices must be of the same type\n",
    "  (float32, float64, int32, complex64)\n",
    "\n",
    "Either matrix can be transposed on the fly by setting the\n",
    "corresponding flag to True.\n",
    "\n",
    "If one or both of the matrices contain a lot of zeros, please\n",
    "set the corresponding a_is_sparse or b_is_sparse flag to True.\n",
    "```\n"
   ]
  },
  {
   "cell_type": "markdown",
   "metadata": {},
   "source": [
    "#### Prepare for Coding\n",
    "At first, let's follow the [style guide](1-style.ipynb) and put the necessary headers."
   ]
  },
  {
   "cell_type": "code",
   "execution_count": null,
   "metadata": {
    "collapsed": true
   },
   "outputs": [],
   "source": [
    "from __future__ import absolute_import\n",
    "from __future__ import print_function\n",
    "from __future__ import division\n",
    "\n",
    "import tensorflow as tf"
   ]
  },
  {
   "cell_type": "markdown",
   "metadata": {},
   "source": [
    "Get a session to run the code."
   ]
  },
  {
   "cell_type": "code",
   "execution_count": null,
   "metadata": {
    "collapsed": true
   },
   "outputs": [],
   "source": [
    "sess = tf.Session()"
   ]
  },
  {
   "cell_type": "markdown",
   "metadata": {},
   "source": [
    "#### Constants"
   ]
  },
  {
   "cell_type": "code",
   "execution_count": null,
   "metadata": {
    "collapsed": false
   },
   "outputs": [],
   "source": [
    "## create two variables `a = 2` and `b = 3`\n",
    "a = ... ###### write your code here ######\n",
    "b = ... ###### write your code here ######\n",
    "\n",
    "resultA = sess.run(a)\n",
    "resultB = sess.run(b)\n",
    "\n",
    "# see the result and its type\n",
    "print(\"a = %i with tpye of %s\" % (resultA, type(resultA)))\n",
    "print(\"b = %i with tpye of %s\" % (resultB, type(resultB)))"
   ]
  },
  {
   "cell_type": "markdown",
   "metadata": {},
   "source": [
    "#### Arrays and Matrices"
   ]
  },
  {
   "cell_type": "code",
   "execution_count": null,
   "metadata": {
    "collapsed": false
   },
   "outputs": [],
   "source": [
    "## create two matrixes `c = {{1, 2}, {3, 4}}` and `d = {{1, 1}, {0, 1}}`\n",
    "c = ... ###### write your code here ######\n",
    "d = ... ###### write your code here ######\n",
    "\n",
    "resultC = sess.run(c)\n",
    "resultCD = sess.run([c, d])\n",
    "\n",
    "# see the result and its type\n",
    "print(resultC)\n",
    "print(type(resultC))\n",
    "print(resultCD)\n",
    "print(type(resultCD))"
   ]
  },
  {
   "cell_type": "markdown",
   "metadata": {},
   "source": [
    "#### String"
   ]
  },
  {
   "cell_type": "code",
   "execution_count": null,
   "metadata": {
    "collapsed": true
   },
   "outputs": [],
   "source": [
    "## create a string `e = 'Hello, Tensorflow'`\n",
    "e = ... ###### write your code here ######\n",
    "print(sess.run(e))"
   ]
  },
  {
   "cell_type": "markdown",
   "metadata": {},
   "source": [
    "#### Matrice Multipulation"
   ]
  },
  {
   "cell_type": "code",
   "execution_count": null,
   "metadata": {
    "collapsed": false
   },
   "outputs": [],
   "source": [
    "## multply c and d using `tf.matmul()`\n",
    "mul = ... ###### write your code here ######\n",
    "print(sess.run(mul))"
   ]
  },
  {
   "cell_type": "markdown",
   "metadata": {},
   "source": [
    "#### Placeholders"
   ]
  },
  {
   "cell_type": "code",
   "execution_count": null,
   "metadata": {
    "collapsed": false
   },
   "outputs": [],
   "source": [
    "## create two placeholder `f` and `g` holds `tf.int16`\n",
    "f = ... ###### write your code here ######\n",
    "g = ... ###### write your code here ######\n",
    "\n",
    "## some operations\n",
    "add = tf.add(f, g)\n",
    "mul = tf.mul(f, g)\n",
    "\n",
    "# get the result of add by feeding `{f: 2, g: 3}` to `sess.run()` using feed_dict\n",
    "resultAdd, resultMul = ... ###### write your code here ######\n",
    "print(\"adding result is: %i\" % resultAdd)\n",
    "print(\"multiplying result is: %i\" % resultMul)"
   ]
  },
  {
   "cell_type": "markdown",
   "metadata": {},
   "source": [
    "[Previous Chapter: Style Guide](1-style.ipynb)\n",
    "<br>\n",
    "[Next Chapter: Graph](3-graph.ipynb)"
   ]
  },
  {
   "cell_type": "code",
   "execution_count": null,
   "metadata": {
    "collapsed": true
   },
   "outputs": [],
   "source": []
  }
 ],
 "metadata": {
  "kernelspec": {
   "display_name": "Python 2",
   "language": "python",
   "name": "python2"
  },
  "language_info": {
   "codemirror_mode": {
    "name": "ipython",
    "version": 2
   },
   "file_extension": ".py",
   "mimetype": "text/x-python",
   "name": "python",
   "nbconvert_exporter": "python",
   "pygments_lexer": "ipython2",
   "version": "2.7.5"
  }
 },
 "nbformat": 4,
 "nbformat_minor": 1
}
