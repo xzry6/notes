{
 "cells": [
  {
   "cell_type": "markdown",
   "metadata": {},
   "source": [
    "[Previous Chapter: TF Playground](../TF-Learn.ipynb)\n",
    "<br>\n",
    "[Next Chapter: Tensorflow Basics](2-basics.ipynb)"
   ]
  },
  {
   "cell_type": "markdown",
   "metadata": {},
   "source": [
    "## Style Guide\n",
    "\n",
    "This page contains style decisions that both developers and users of Tensorflow should follow to increase the readability of their code, reduce the number of errors, and promote consistency.\n",
    "\n",
    "### Python Style\n",
    "2 spaces are used in tensorflow. Other than that, [PEP8 Python style guide](https://www.python.org/dev/peps/pep-0008/) should be followed.\n",
    "\n",
    "### Python 2 and 3 compatible\n",
    "To be compatible with both Python 2 and Python 3, following lines should be added to the top of all Python files.\n",
    "```python\n",
    "from __future__ import absolute_import\n",
    "from __future__ import print_function\n",
    "from __future__ import division\n",
    "\n",
    "```\n",
    "\n",
    "### Python operations\n",
    "###### A Python operation is a function that, given input tensors and parameters, creates a part of the graph and returns output tensors.\n",
    "\n",
    "- The first arguments should be tensors, followed by basic python parameters. The last argument is name with a default value of None. If operation needs to save some Tensors to Graph collections, put the arguments with names of the collections right before name argument.\n",
    "- Tensor arguments should be either a single tensor or an iterable of tensors. E.g. a \"Tensor or list of Tensors\" is too broad. See assert_proper_iterable.\n",
    "- Operations that take tensors as arguments should call convert_to_tensor to convert non-tensor inputs into tensors if they are using C++ operations. Note that the arguments are still described as a Tensor object of a specific dtype in the documentation.\n",
    "- Each Python operation should have an op_scope like below. Pass list of input tensors, name and a default name of the op as arguments.\n",
    "- Operations should contain an extensive Python comment with Args and Returns declarations that explain both the type and meaning of each value. Possible shapes, dtypes, or ranks should be specified in the description. See documentation details\n",
    "\n",
    "#### Example:\n",
    "```python\n",
    "def my_op(tensor_in, other_tensor_in, my_param, other_param=0.5,\n",
    "          output_collections=(), name=None):\n",
    "\"\"\"My operation that adds two tensors with given coefficients.\n",
    "\n",
    "Args:\n",
    "  tensor_in: `Tensor`, input tensor.\n",
    "  other_tensor_in: `Tensor`, same shape as `tensor_in`, other input tensor.\n",
    "  my_param: `float`, coefficient for `tensor_in`.\n",
    "  other_param: `float`, coefficient for `other_tensor_in`.\n",
    "  output_collections: `tuple` of `string`s, name of the collection to\n",
    "                      collect result of this op.\n",
    "  name: `string`, name of the operation.\n",
    "\n",
    "Returns:\n",
    "  `Tensor` of same shape as `tensor_in`, sum of input values with coefficients.\n",
    "\n",
    "Example:\n",
    "  >>> my_op([1., 2.], [3., 4.], my_param=0.5, other_param=0.6,\n",
    "            output_collections=['MY_OPS'], name='add_t1t2')\n",
    "  [2.3, 3.4]\n",
    "\"\"\"\n",
    "with tf.op_scope([tensor_in, other_tensor_in], name, \"my_op\"):\n",
    "  tensor_in = tf.convert_to_tensor(tensor_in)\n",
    "  other_tensor_in = tf.convert_to_tensor(other_tensor_in)\n",
    "  result = my_param * tensor_in + other_param * other_tensor_in\n",
    "  tf.add_to_collections(output_collections, result)\n",
    "  return result\n",
    "```\n",
    "#### Usage:\n",
    "```python\n",
    "output = my_op(t1, t2, my_param=0.5, other_param=0.6,\n",
    "               output_collections=['MY_OPS'], name='add_t1t2')\n",
    "```\n",
    "\n",
    "### Layers\n",
    "\n",
    "###### A Layer is a Python operation that combines variable creation and/or one or many other graph operations. Follow the same requirements as for regular Python operation.\n",
    "\n",
    "If a layer creates one or more variables, the layer function should take next arguments also following order:\n",
    "- initializers: Optionally allow to specify initializers for the variables.\n",
    "- regularizers: Optionally allow to specify regularizers for the variables.\n",
    "- trainable: which control if their variables are trainable or not.\n",
    "- scope: VariableScope object that variable will be put under.\n",
    "- reuse: bool indicator if the variable should be reused if it's present in the scope.\n",
    "\n",
    "Layers that behave differently during training should have:\n",
    "- is_training: bool to indicate if a training graph is been built.\n",
    "\n",
    "#### Example:\n",
    "```python\n",
    "def conv2d(inputs,\n",
    "           num_filters_out,\n",
    "           kernel_size,\n",
    "           stride=1,\n",
    "           padding='SAME',\n",
    "           activation_fn=tf.nn.relu,\n",
    "           normalization_fn=add_bias,\n",
    "           normalization_params=None,\n",
    "           initializers=None,\n",
    "           regularizers=None,\n",
    "           trainable=True,\n",
    "           scope=None,\n",
    "           reuse=None):\n",
    "  ... see implementation at tensorflow/contrib/layers/python/layers/layers.py ...\n",
    "```\n"
   ]
  },
  {
   "cell_type": "markdown",
   "metadata": {},
   "source": [
    "[Previous Chapter: TF Playground](../TF-Learn.ipynb)\n",
    "<br>\n",
    "[Next Chapter: Tensorflow Basics](2-basics.ipynb)"
   ]
  },
  {
   "cell_type": "code",
   "execution_count": 1,
   "metadata": {
    "collapsed": true
   },
   "outputs": [],
   "source": [
    "from __future__ import absolute_import\n",
    "from __future__ import print_function\n",
    "from __future__ import division\n",
    "\n"
   ]
  },
  {
   "cell_type": "code",
   "execution_count": null,
   "metadata": {
    "collapsed": true
   },
   "outputs": [],
   "source": []
  }
 ],
 "metadata": {
  "kernelspec": {
   "display_name": "Python 2",
   "language": "python",
   "name": "python2"
  },
  "language_info": {
   "codemirror_mode": {
    "name": "ipython",
    "version": 2
   },
   "file_extension": ".py",
   "mimetype": "text/x-python",
   "name": "python",
   "nbconvert_exporter": "python",
   "pygments_lexer": "ipython2",
   "version": "2.7.5"
  }
 },
 "nbformat": 4,
 "nbformat_minor": 1
}
