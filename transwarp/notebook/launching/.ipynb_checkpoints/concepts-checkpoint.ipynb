{
 "cells": [
  {
   "cell_type": "markdown",
   "metadata": {},
   "source": [
    "## Basic Concpts\n",
    "\n",
    "Following part is quoted from [Tensorflow 2015 White Paper](http://download.tensorflow.org/paper/whitepaper2015.pdf).\n",
    "\n",
    "<span style=\"color: #F08080\">A **TensorFlow computation** is described by a **directed graph**, which is composed of a set of nodes</span>. The *graph* represents a dataflow computation, with extensions for allowing some kinds of nodes to maintain and update persistent state and for branching and looping control structures within the graph. Clients typically construct a computational graph using one of the supported frontend languages (C++ or\n",
    "Python).\n",
    "\n",
    "<img src=\"https://raw.githubusercontent.com/stdcoutzyx/Blogs/master/blogs2016/imgs_tensorflow/3.png\" width=\"200\" />\n",
    "<img src=\"https://raw.githubusercontent.com/stdcoutzyx/Blogs/master/blogs2016/imgs_tensorflow/2.png\" width=\"800\" />\n",
    "\n",
    "In a *TensorFlow graph*, <span style=\"color: #F08080\">each **node** represents the instantiation of an **operation**, and has zero or more inputs and zero or more outputs</span>. <span style=\"color: #F08080\">Values that flow along normal edges in the graph (from outputs to inputs) are **tensors**</span>, arbitrary dimensionality arrays where the underlying element type is specified or inferred at graph-construction time.\n",
    "\n",
    "### Tensors\n",
    "<span style=\"color: #F08080\">A tensor is a typed, multidimensional array</span>. Tensorflow support a variety of tensor element types, including signed and unsigned integers ranging in size from 8 bits to 64 bits, IEEE float and double types, a complex number type, and a string type (an arbitrary byte array). Backing store of the appropriate size is managed by an allocator that is specific to the device on which the tensor resides. Tensor backing store buffers are reference counted and are deallocated when no references remain.\n",
    "\n",
    "\n",
    "### Variables\n",
    "In most computations a graph is executed multiple times. Most **tensors** do not survive past a single execution of the graph. However, <span style=\"color: #F08080\">a **Variable** is a special kind of operation that returns a handle to a persistent mutable tensor that survives across executions of a graph</span>. Handles to these persistent mutable tensors can be passed to a handful of special operations, such as Assign and AssignAdd (equivalent to +=) that mutate the referenced tensor.\n",
    "\n",
    "### Operations(Ops)\n",
    "<span style=\"color: #F08080\">An **operation** has a name and represents an abstract computation (see the following table)</span>. An operation can have attributes, and all attributes must be provided or inferred at graph-construction time in order to instantiate a node to perform the operation.\n",
    "<span style=\"color: #F08080\">A **kernel** is a particular implementation of an operation that can be run on a particular type of device (e.g., CPU or GPU)</span>.\n",
    "\n",
    "<img src=\"https://raw.githubusercontent.com/stdcoutzyx/Blogs/master/blogs2016/imgs_tensorflow/1.png\" width=\"800\" />\n",
    "\n",
    "### Sessions\n",
    "\n",
    "<span style=\"color: #F08080\">Clients programs interact with the TensorFlow system by creating a **Session**</span>.\n",
    "\n",
    "**Session Run**, which takes a set of output names that need to be computed, as well as an optional set of tensors to be fed into the graph in place of certain outputs of nodes. Using the arguments to Run, the TensorFlow implementation can compute the transitive closure of all nodes that must be executed in order to compute the outputs that were requested, and can then arrange to execute the appropriate nodes in an order that respects their dependencies. <span style=\"color: #F08080\">Most of our uses of TensorFlow set up a Session with a graph once, and then execute the full graph or a few distinct subgraphs thousands or millions of times via **Run** calls.</span>\n",
    "\n",
    "\n",
    "### Exercise: Basic Concepts\n",
    "\n",
    "Read following **Tensorflow API** carefully and finish the exerceses.\n",
    "\n",
    "##### tf.Session.run(fetches, feed_dict=None, options=None, run_metadata=None)\n",
    "```\n",
    "Runs operations and evaluates tensors in fetches.\n",
    "\n",
    "The fetches argument can be one of the following types:\n",
    "- An Operation;\n",
    "- A Tensor;\n",
    "- A SparseTensor;\n",
    "- A get_tensor_handle op;\n",
    "- A string which is the name of a tensor or operation in graph;\n",
    "\n",
    "Returns\n",
    "- A single value if fetches is a single graph element;\n",
    "- A list of values if fetches is a list;\n",
    "- A dictionary with the same keys;\n",
    "```\n",
    "\n",
    "##### tf.constant(value, dtype=None, shape=None, name='Const')\n",
    "```\n",
    "Creates a constant tensor.\n",
    "\n",
    "The argument value can be\n",
    "- A constant value;\n",
    "- A list of values of type dtype; \n",
    "\n",
    "The resulting tensor is populated with values of type dtype.\n",
    "```\n",
    "\n",
    "##### tf.matmul(a, b, transpose_a=False, transpose_b=False, a_is_sparse=False, b_is_sparse=False, name=None)\n",
    "```\n",
    "Multiplies matrix a by matrix b, producing a * b.\n",
    "\n",
    "The inputs must be\n",
    "- Two-dimensional matching matrices;\n",
    "- Both matrices must be of the same type\n",
    "  (float32, float64, int32, complex64)\n",
    "\n",
    "Either matrix can be transposed on the fly by setting the\n",
    "corresponding flag to True.\n",
    "\n",
    "If one or both of the matrices contain a lot of zeros, please\n",
    "set the corresponding a_is_sparse or b_is_sparse flag to True.\n",
    "```\n"
   ]
  },
  {
   "cell_type": "markdown",
   "metadata": {},
   "source": [
    "#### Prepare for Coding\n",
    "At first, let's follow the style guide and put the necessary headers."
   ]
  },
  {
   "cell_type": "code",
   "execution_count": null,
   "metadata": {
    "collapsed": true
   },
   "outputs": [],
   "source": [
    "from __future__ import absolute_import\n",
    "from __future__ import print_function\n",
    "from __future__ import division\n",
    "\n",
    "import tensorflow as tf"
   ]
  },
  {
   "cell_type": "markdown",
   "metadata": {},
   "source": [
    "Get a session to run the code."
   ]
  },
  {
   "cell_type": "code",
   "execution_count": 8,
   "metadata": {
    "collapsed": true
   },
   "outputs": [],
   "source": [
    "sess = tf.Session()"
   ]
  },
  {
   "cell_type": "markdown",
   "metadata": {},
   "source": [
    "#### Constants"
   ]
  },
  {
   "cell_type": "code",
   "execution_count": 10,
   "metadata": {
    "collapsed": false
   },
   "outputs": [
    {
     "name": "stdout",
     "output_type": "stream",
     "text": [
      "a = 2 with tpye of <type 'numpy.int32'>\n"
     ]
    }
   ],
   "source": [
    "## create two variables `a = 2` and `b = 3`\n",
    "a = ... ###### write your code here ######\n",
    "b = ... ###### write your code here ######\n",
    "\n",
    "resultA = sess.run(a)\n",
    "resultB = sess.run(b)\n",
    "\n",
    "print(\"a = %i with tpye of %s\" % (resultA, type(resultA)))\n",
    "print(\"b = %i with tpye of %s\" % (resultB, type(resultB)))"
   ]
  },
  {
   "cell_type": "markdown",
   "metadata": {},
   "source": [
    "#### Arrays and Matrices"
   ]
  },
  {
   "cell_type": "code",
   "execution_count": 21,
   "metadata": {
    "collapsed": false
   },
   "outputs": [
    {
     "ename": "SyntaxError",
     "evalue": "invalid syntax (<ipython-input-21-b9ab089dcdd8>, line 2)",
     "output_type": "error",
     "traceback": [
      "\u001b[0;36m  File \u001b[0;32m\"<ipython-input-21-b9ab089dcdd8>\"\u001b[0;36m, line \u001b[0;32m2\u001b[0m\n\u001b[0;31m    c = ... ###### write your code here ######\u001b[0m\n\u001b[0m        ^\u001b[0m\n\u001b[0;31mSyntaxError\u001b[0m\u001b[0;31m:\u001b[0m invalid syntax\n"
     ]
    }
   ],
   "source": [
    "## create two matrixes `c = {{1, 2}, {3, 4}}` and `d = {{1, 1}, {0, 1}}`\n",
    "c = ... ###### write your code here ######\n",
    "d = ... ###### write your code here ######\n",
    "\n",
    "resultC = sess.run(c)\n",
    "resultCD = sess.run([c, d])\n",
    "\n",
    "print(resultC)\n",
    "print(type(resultC))\n",
    "print(resultCD)\n",
    "print(type(resultCD))"
   ]
  },
  {
   "cell_type": "markdown",
   "metadata": {},
   "source": [
    "#### String"
   ]
  },
  {
   "cell_type": "code",
   "execution_count": null,
   "metadata": {
    "collapsed": true
   },
   "outputs": [],
   "source": [
    "## create a string `e = 'Hello, Tensorflow'`\n",
    "e = ... ###### write your code here ######\n",
    "print(sess.run(e))"
   ]
  },
  {
   "cell_type": "markdown",
   "metadata": {},
   "source": [
    "#### Matrice Multipulation"
   ]
  },
  {
   "cell_type": "code",
   "execution_count": 22,
   "metadata": {
    "collapsed": false
   },
   "outputs": [
    {
     "name": "stdout",
     "output_type": "stream",
     "text": [
      "[[ 7 10]\n",
      " [15 22]]\n"
     ]
    }
   ],
   "source": [
    "## multply c and d using `tf.matmul()`\n",
    "op = ... ###### write your code here ######\n",
    "print(sess.run(op))"
   ]
  },
  {
   "cell_type": "code",
   "execution_count": null,
   "metadata": {
    "collapsed": true
   },
   "outputs": [],
   "source": []
  }
 ],
 "metadata": {
  "kernelspec": {
   "display_name": "Python 2",
   "language": "python",
   "name": "python2"
  },
  "language_info": {
   "codemirror_mode": {
    "name": "ipython",
    "version": 2
   },
   "file_extension": ".py",
   "mimetype": "text/x-python",
   "name": "python",
   "nbconvert_exporter": "python",
   "pygments_lexer": "ipython2",
   "version": "2.7.5"
  }
 },
 "nbformat": 4,
 "nbformat_minor": 1
}
