{
 "cells": [
  {
   "cell_type": "markdown",
   "metadata": {},
   "source": [
    "[Previous Chapter: Input and Variable](2-input.ipynb)\n",
    "<br>\n",
    "[Next Chapter: Summary and Tensorboard](4-summary.ipynb)"
   ]
  },
  {
   "cell_type": "markdown",
   "metadata": {},
   "source": [
    "## Graph and Tensor\n",
    "\n",
    "A *Graph* in Tensorflow represents complicated computation dataflow consisting of *Tensors*.<br>\n",
    "\n",
    "A *Tensor* is a basic data structure in *Tensorflow*. There are several features of a *Tensor*.\n",
    "- Represents one of outputs of an *Operation*;\n",
    "- As a symbolic handle to one of the outputs of an *Operation*, *Tensor* provides a mean of computing the outputs in *Tensor*flow session instead of hold the real value;\n",
    "- A *Tensor* could also be fed as an input to another *Operation*, that enables Tensorflow to build a multi-step, complicated computation which is called a *Graph*;\n",
    "- After the *Graph* has been launched to a *Session*, the value of the *Tensor* can be computed by passing it to `Session.run()`;\n",
    "\n"
   ]
  },
  {
   "cell_type": "markdown",
   "metadata": {},
   "source": [
    "### Let's try to build a *Logistic Regression* graph using tensors\n",
    "You can view [a linear sample](TF-Playground.ipynb#samplecode) for reference.\n",
    "#### Necessary Headers"
   ]
  },
  {
   "cell_type": "code",
   "execution_count": 1,
   "metadata": {
    "collapsed": true
   },
   "outputs": [],
   "source": [
    "from __future__ import absolute_import\n",
    "from __future__ import print_function\n",
    "from __future__ import division\n",
    "\n",
    "import tensorflow as tf"
   ]
  },
  {
   "cell_type": "markdown",
   "metadata": {},
   "source": [
    "#### MNIST data"
   ]
  },
  {
   "cell_type": "code",
   "execution_count": 2,
   "metadata": {
    "collapsed": false
   },
   "outputs": [
    {
     "name": "stdout",
     "output_type": "stream",
     "text": [
      "Extracting /root/tensorflow/MNIST_data/train-images-idx3-ubyte.gz\n",
      "Extracting /root/tensorflow/MNIST_data/train-labels-idx1-ubyte.gz\n",
      "Extracting /root/tensorflow/MNIST_data/t10k-images-idx3-ubyte.gz\n",
      "Extracting /root/tensorflow/MNIST_data/t10k-labels-idx1-ubyte.gz\n"
     ]
    }
   ],
   "source": [
    "## MNIST data\n",
    "from tensorflow.examples.tutorials.mnist import input_data\n",
    "mnist = input_data.read_data_sets(\"/root/tensorflow/MNIST_data\", one_hot=True)"
   ]
  },
  {
   "cell_type": "markdown",
   "metadata": {},
   "source": [
    "#### Training Parameters"
   ]
  },
  {
   "cell_type": "code",
   "execution_count": 3,
   "metadata": {
    "collapsed": true
   },
   "outputs": [],
   "source": [
    "## parameters\n",
    "learning_rate = 0.01\n",
    "training_epochs = 25\n",
    "batch_size = 100\n",
    "display_step = 1"
   ]
  },
  {
   "cell_type": "markdown",
   "metadata": {},
   "source": [
    "#### Inputs"
   ]
  },
  {
   "cell_type": "code",
   "execution_count": 4,
   "metadata": {
    "collapsed": true
   },
   "outputs": [],
   "source": [
    "## inputs\n",
    "x = tf.placeholder(tf.float32, [None, 784]) # MNIST data image are of shape 28*28\n",
    "y = tf.placeholder(tf.float32, [None, 10]) # MNIST data has 10 classes"
   ]
  },
  {
   "cell_type": "markdown",
   "metadata": {},
   "source": [
    "#### Variables"
   ]
  },
  {
   "cell_type": "code",
   "execution_count": 9,
   "metadata": {
    "collapsed": false
   },
   "outputs": [],
   "source": [
    "## variables\n",
    "\n",
    "# initialize random uniform distributed weights with size of [784, 10] ranging from -1 to 1\n",
    "W = tf.Variable(tf.random_uniform([784, 10])) ###### write your code here ######\n",
    "\n",
    "# initialize bias with size of [10] to zero\n",
    "b = tf.Variable(tf.zeros([10])) ###### write your code here ######"
   ]
  },
  {
   "cell_type": "markdown",
   "metadata": {},
   "source": [
    "#### Graph"
   ]
  },
  {
   "cell_type": "code",
   "execution_count": 13,
   "metadata": {
    "collapsed": true
   },
   "outputs": [],
   "source": [
    "## graph\n",
    "\n",
    "# comb = W * x + b (using a similar tensorflow function)\n",
    "comb = tf.add(tf.matmul(x, W), b) ###### write your code here ######\n",
    "\n",
    "# predicted value\n",
    "pred = tf.nn.softmax(comb)\n",
    "\n",
    "# entr equals to negative `tf.reduce_sum()` of y * log(pred), with reduction_indices = 1\n",
    "entr = - tf.reduce_sum(y * tf.log(pred), reduction_indices = 1) ###### write your code here ######\n",
    "\n",
    "# cross entropy cost\n",
    "cost = tf.reduce_mean(entr)\n",
    "\n",
    "# optimizer\n",
    "opti = tf.train.GradientDescentOptimizer(learning_rate)\n",
    "\n",
    "# training_steps use optimizer to minimize the cost\n",
    "training_steps = opti.minimize(cost) ###### write your code here ######\n",
    "\n",
    "# initialization\n",
    "init = tf.initialize_all_variables()"
   ]
  },
  {
   "cell_type": "markdown",
   "metadata": {},
   "source": [
    "#### Run a Session"
   ]
  },
  {
   "cell_type": "code",
   "execution_count": 15,
   "metadata": {
    "collapsed": false
   },
   "outputs": [
    {
     "name": "stdout",
     "output_type": "stream",
     "text": [
      "[[ 0.7958616   0.45057738  0.59453416 ...,  0.09930468  0.43738663\n",
      "   0.14013982]\n",
      " [ 0.51691294  0.69872022  0.26079512 ...,  0.22386074  0.48245192\n",
      "   0.72945487]\n",
      " [ 0.79117417  0.80700421  0.31551576 ...,  0.27244997  0.28904283\n",
      "   0.79305601]\n",
      " ..., \n",
      " [ 0.75811112  0.92817926  0.17290878 ...,  0.23339438  0.98195982\n",
      "   0.84275806]\n",
      " [ 0.9155184   0.06911552  0.22399938 ...,  0.0921973   0.8284117\n",
      "   0.21454251]\n",
      " [ 0.11469018  0.76499403  0.97914004 ...,  0.58093274  0.99949396\n",
      "   0.01614749]]\n",
      "Epoch: 0001 cost= 2.093551063\n",
      "Epoch: 0002 cost= 0.970577008\n",
      "Epoch: 0003 cost= 0.747339886\n",
      "Epoch: 0004 cost= 0.646573084\n",
      "Epoch: 0005 cost= 0.587549378\n",
      "Epoch: 0006 cost= 0.547747468\n",
      "Epoch: 0007 cost= 0.518813007\n",
      "Epoch: 0008 cost= 0.496605432\n",
      "Epoch: 0009 cost= 0.478794741\n",
      "Epoch: 0010 cost= 0.464296092\n",
      "Epoch: 0011 cost= 0.451982467\n",
      "Epoch: 0012 cost= 0.441529287\n",
      "Epoch: 0013 cost= 0.432347904\n",
      "Epoch: 0014 cost= 0.424388354\n",
      "Epoch: 0015 cost= 0.417276432\n",
      "Epoch: 0016 cost= 0.410940522\n",
      "Epoch: 0017 cost= 0.405199297\n",
      "Epoch: 0018 cost= 0.399946794\n",
      "Epoch: 0019 cost= 0.395234591\n",
      "Epoch: 0020 cost= 0.390821255\n",
      "Epoch: 0021 cost= 0.386809470\n",
      "Epoch: 0022 cost= 0.383028820\n",
      "Epoch: 0023 cost= 0.379539712\n",
      "Epoch: 0024 cost= 0.376277925\n",
      "Epoch: 0025 cost= 0.373232446\n",
      "Optimization Finished!\n",
      "[[ 0.7958616   0.45057738  0.59453416 ...,  0.09930468  0.43738663\n",
      "   0.14013982]\n",
      " [ 0.51691294  0.69872022  0.26079512 ...,  0.22386074  0.48245192\n",
      "   0.72945487]\n",
      " [ 0.79117417  0.80700421  0.31551576 ...,  0.27244997  0.28904283\n",
      "   0.79305601]\n",
      " ..., \n",
      " [ 0.75811112  0.92817926  0.17290878 ...,  0.23339438  0.98195982\n",
      "   0.84275806]\n",
      " [ 0.9155184   0.06911552  0.22399938 ...,  0.0921973   0.8284117\n",
      "   0.21454251]\n",
      " [ 0.11469018  0.76499403  0.97914004 ...,  0.58093274  0.99949396\n",
      "   0.01614749]]\n",
      "Accuracy: 0.9009\n"
     ]
    }
   ],
   "source": [
    "## training\n",
    "with tf.Session() as sess:\n",
    "    sess.run(init)\n",
    "\n",
    "    print(sess.run(W))\n",
    "    # training epochs\n",
    "    for epoch in range(training_epochs):\n",
    "\n",
    "        avg_cost = 0\n",
    "        total_batch = int(mnist.train.num_examples / batch_size)\n",
    "\n",
    "        # split the data into different batches and run\n",
    "        for i in range(total_batch):\n",
    "            batch_xs, batch_ys = mnist.train.next_batch(batch_size)\n",
    "            # run training steps and cost both in session, which should be fed `x = batch_xs` and `y = batch_ys`\n",
    "            _, cur_cost = sess.run([training_steps, cost], feed_dict = {x: batch_xs, y: batch_ys}) ###### write your code here ######\n",
    "\n",
    "            avg_cost += cur_cost / total_batch\n",
    "\n",
    "        # show the average cost\n",
    "        if (epoch+1) % display_step == 0:\n",
    "            print(\"Epoch:\", '%04d' % (epoch+1), \"cost=\", \"{:.9f}\".format(avg_cost))\n",
    "\n",
    "    print(\"Optimization Finished!\")\n",
    "    \n",
    "    correct_prediction = tf.equal(tf.argmax(pred, 1), tf.argmax(y, 1))\n",
    "    accuracy = tf.reduce_mean(tf.cast(correct_prediction, 'float'))\n",
    "    print(sess.run(W))\n",
    "\n",
    "    \n",
    "    print(\"Accuracy:\", accuracy.eval({x: mnist.test.images, y: mnist.test.labels}))"
   ]
  },
  {
   "cell_type": "markdown",
   "metadata": {},
   "source": [
    "[Previous Chapter: Input and Variable](2-input.ipynb)\n",
    "<br>\n",
    "[Next Chapter: Summary and Tensorboard](4-summary.ipynb)"
   ]
  },
  {
   "cell_type": "code",
   "execution_count": null,
   "metadata": {
    "collapsed": true
   },
   "outputs": [],
   "source": []
  }
 ],
 "metadata": {
  "kernelspec": {
   "display_name": "Python 2",
   "language": "python",
   "name": "python2"
  },
  "language_info": {
   "codemirror_mode": {
    "name": "ipython",
    "version": 2
   },
   "file_extension": ".py",
   "mimetype": "text/x-python",
   "name": "python",
   "nbconvert_exporter": "python",
   "pygments_lexer": "ipython2",
   "version": "2.7.5"
  }
 },
 "nbformat": 4,
 "nbformat_minor": 1
}
